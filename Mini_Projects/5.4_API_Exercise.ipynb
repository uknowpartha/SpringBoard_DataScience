{
 "cells": [
  {
   "cell_type": "markdown",
   "metadata": {},
   "source": [
    "# 1. Collect data from the Franfurt Stock Exchange, for the ticker AFX_X, for the whole year 2017 (keep in mind that the date format is YYYY-MM-DD)."
   ]
  },
  {
   "cell_type": "code",
   "execution_count": 32,
   "metadata": {},
   "outputs": [],
   "source": [
    "import requests\n",
    "import pandas as pd\n",
    "import datetime as dt\n",
    "# Now, call the Quandl API and pull out a small sample of the data (only one day) to get a glimpse\n",
    "# into the JSON structure that will be returned\\n\n",
    "r = requests.get('https://www.quandl.com/api/v3/datasets/FSE/AFX_X/data.json?api_key=zHcseLEhJoL8L8r5zQbQ')\n",
    "rjson=r.json()\n",
    "\n",
    "set1 = rjson['dataset_data']\n",
    "    \n",
    "# Convert the JSON Dataset into Dataframes\\n\n",
    "column_label=set1['column_names']\n",
    "#set1['data']\\n\",\n",
    "column_data = set1['data']\n",
    "df = pd.DataFrame.from_records(column_data)\n",
    "df.columns = column_label\n",
    "\n",
    "# Select only 2017 Data\n",
    "df['Date'] = pd.to_datetime(df['Date'])\n",
    "data_2017 = df[df['Date'].dt.year == 2017]\n"
   ]
  },
  {
   "cell_type": "markdown",
   "metadata": {},
   "source": [
    "# 3.Calculate what the highest and lowest opening prices were for the stock in this period."
   ]
  },
  {
   "cell_type": "code",
   "execution_count": 33,
   "metadata": {},
   "outputs": [
    {
     "name": "stdout",
     "output_type": "stream",
     "text": [
      "Highest Open Price --> 53.11\n",
      "Lowest Open Price --> 34.0\n"
     ]
    }
   ],
   "source": [
    "print( 'Highest Open Price -->',data_2017['Open'].max())\n",
    "print( 'Lowest Open Price -->',data_2017['Open'].min())"
   ]
  },
  {
   "cell_type": "markdown",
   "metadata": {},
   "source": [
    "# 4. What was the largest change in any one day (based on High and Low price)?"
   ]
  },
  {
   "cell_type": "code",
   "execution_count": 34,
   "metadata": {},
   "outputs": [
    {
     "name": "stdout",
     "output_type": "stream",
     "text": [
      "Largest change in one day -->  2.8100000000000023\n"
     ]
    },
    {
     "name": "stderr",
     "output_type": "stream",
     "text": [
      "C:\\Users\\ppdas\\AppData\\Local\\Continuum\\miniconda3\\lib\\site-packages\\ipykernel_launcher.py:2: SettingWithCopyWarning: \n",
      "A value is trying to be set on a copy of a slice from a DataFrame.\n",
      "Try using .loc[row_indexer,col_indexer] = value instead\n",
      "\n",
      "See the caveats in the documentation: https://pandas.pydata.org/pandas-docs/stable/user_guide/indexing.html#returning-a-view-versus-a-copy\n",
      "  \n"
     ]
    }
   ],
   "source": [
    "data_2017_subset = data_2017\n",
    "data_2017_subset['daily_change']=data_2017_subset['High']-data_2017_subset['Low']\n",
    "print('Largest change in one day --> ', data_2017_subset['daily_change'].max())"
   ]
  },
  {
   "cell_type": "markdown",
   "metadata": {},
   "source": [
    "# 5. What was the largest change between any two days (based on Closing Price)?"
   ]
  },
  {
   "cell_type": "code",
   "execution_count": 67,
   "metadata": {},
   "outputs": [
    {
     "name": "stdout",
     "output_type": "stream",
     "text": [
      "Largest change between any Two days: 1.7199999999999989\n"
     ]
    }
   ],
   "source": [
    "data_2017_1 = data_2017_subset.sort_values(by='Date')\n",
    "data_2017_1.set_index(['Date'],inplace=True) \n",
    "#data_2017_2 = data_2017_1.shift(1)\n",
    "#data_2017_2['Close'].fillna(0, inplace=True)\n",
    "data_2017_2=data_2017_1.Close-data_2017_1.Close.shift(1)\n",
    "data_final = data_2017_2.fillna(0)\n",
    "\n",
    "#Maimum change between any 2 Days\n",
    "print ('Largest change between any Two days:',data_final.max())"
   ]
  },
  {
   "cell_type": "markdown",
   "metadata": {},
   "source": [
    "# 6. What was the average daily trading volume during this year?"
   ]
  },
  {
   "cell_type": "code",
   "execution_count": 73,
   "metadata": {},
   "outputs": [
    {
     "name": "stdout",
     "output_type": "stream",
     "text": [
      "Avergae Daily Trading Volume During this year 2017 --->  89124.33725490196\n"
     ]
    }
   ],
   "source": [
    "trade_vol_sum   = data_2017['Traded Volume'].sum()\n",
    "trade_vol_count = data_2017['Traded Volume'].count()\n",
    "\n",
    "#Average daily Trading Volume in 2017\n",
    "print ('Avergae Daily Trading Volume During this year 2017 ---> ', trade_vol_sum/trade_vol_count)"
   ]
  }
 ],
 "metadata": {
  "kernelspec": {
   "display_name": "Python 3",
   "language": "python",
   "name": "python3"
  },
  "language_info": {
   "codemirror_mode": {
    "name": "ipython",
    "version": 3
   },
   "file_extension": ".py",
   "mimetype": "text/x-python",
   "name": "python",
   "nbconvert_exporter": "python",
   "pygments_lexer": "ipython3",
   "version": "3.7.4"
  }
 },
 "nbformat": 4,
 "nbformat_minor": 4
}
